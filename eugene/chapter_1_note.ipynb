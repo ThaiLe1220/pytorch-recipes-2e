{
 "cells": [
  {
   "cell_type": "code",
   "execution_count": 1,
   "metadata": {},
   "outputs": [
    {
     "data": {
      "text/plain": [
       "'2.3.0'"
      ]
     },
     "execution_count": 1,
     "metadata": {},
     "output_type": "execute_result"
    }
   ],
   "source": [
    "from __future__ import print_function\n",
    "import torch\n",
    "\n",
    "torch.version.__version__"
   ]
  },
  {
   "cell_type": "markdown",
   "metadata": {},
   "source": [
    "## PyTorch and Automatic Gradient Computation\n",
    "\n",
    "* PyTorch (PT) has a powerful feature called autograd (automatic differentiation) that handles the computation of gradients for you. Gradients represent the rate of change of the loss function with respect to model parameters (weights and biases).\n",
    "\n",
    "* When you perform operations on tensors, PyTorch builds a computation graph behind the scenes. This graph tracks the operations and relationships between tensors.\n"
   ]
  },
  {
   "cell_type": "code",
   "execution_count": 2,
   "metadata": {},
   "outputs": [
    {
     "name": "stdout",
     "output_type": "stream",
     "text": [
      "Gradients: tensor([2., 2., 2.])\n"
     ]
    },
    {
     "data": {
      "image/png": "[encoded data removed]",
      "text/plain": [
       "<IPython.core.display.Image object>"
      ]
     },
     "metadata": {},
     "output_type": "display_data"
    }
   ],
   "source": [
    "# Import necessary libraries\n",
    "import torch\n",
    "from torchviz import make_dot\n",
    "from IPython.display import Image, display\n",
    "\n",
    "# Define tensors with requires_grad=True\n",
    "x = torch.tensor([1.0, 2.0, 3.0], requires_grad=True)\n",
    "y = x * 2\n",
    "z = y.sum()\n",
    "\n",
    "# Perform backward pass to compute gradients\n",
    "z.backward()\n",
    "\n",
    "# Access the gradients\n",
    "print(\"Gradients:\", x.grad)  # Output: tensor([2., 2., 2.])\n",
    "\n",
    "# Visualize the computation graph\n",
    "dot = make_dot(z, params={\"x\": x})\n",
    "\n",
    "# Display the computation graph directly in the notebook\n",
    "display(Image(dot.pipe(format=\"png\")))"
   ]
  },
  {
   "cell_type": "code",
   "execution_count": 3,
   "metadata": {},
   "outputs": [],
   "source": [
    "# torch.numel(torch.zeros(4, 4))\n",
    "# torch.eye(3)\n",
    "# torch.eye(3, 4)\n",
    "# torch.eye(4, 3)"
   ]
  },
  {
   "cell_type": "code",
   "execution_count": 4,
   "metadata": {},
   "outputs": [
    {
     "data": {
      "text/plain": [
       "tensor([12, 23, 34, 45, 56, 67, 78])"
      ]
     },
     "execution_count": 4,
     "metadata": {},
     "output_type": "execute_result"
    }
   ],
   "source": [
    "import numpy as np\n",
    "\n",
    "# convert numpy array to pytorch tensor\n",
    "x1 = np.array([12, 23, 34, 45, 56, 67, 78])\n",
    "torch.from_numpy(x1)"
   ]
  },
  {
   "cell_type": "code",
   "execution_count": 5,
   "metadata": {},
   "outputs": [
    {
     "data": {
      "text/plain": [
       "False"
      ]
     },
     "execution_count": 5,
     "metadata": {},
     "output_type": "execute_result"
    }
   ],
   "source": [
    "# 25 evenly spaced points between 5 and 25\n",
    "# torch.linspace(5, 25, steps=25)\n",
    "\n",
    "\n",
    "# 15 evenly spaced points between 10^(-10) and 10^10\n",
    "# torch.logspace(-10, 10, steps=15)\n",
    "\n",
    "torch.arange(10, 40, 2)  # step size 2\n",
    "# torch.is_tensor(torch.arange(10, 40, 2))\n",
    "torch.is_storage(torch.arange(10, 40, 2))"
   ]
  },
  {
   "cell_type": "code",
   "execution_count": 18,
   "metadata": {},
   "outputs": [
    {
     "name": "stdout",
     "output_type": "stream",
     "text": [
      "torch.Size([4, 5])\n",
      "torch.Size([8, 5])\n",
      "torch.Size([4, 15])\n"
     ]
    }
   ],
   "source": [
    "x = torch.randn(4, 5)\n",
    "print(x.shape)\n",
    "\n",
    "x2 = torch.cat((x, x))\n",
    "# print(x2)\n",
    "\n",
    "x3 = torch.cat((x, x), 0)\n",
    "print(x3.shape)\n",
    "\n",
    "x3_c = torch.cat((x, x, x), 1)\n",
    "print(x3_c.shape)"
   ]
  },
  {
   "cell_type": "code",
   "execution_count": 23,
   "metadata": {},
   "outputs": [
    {
     "data": {
      "text/plain": [
       "tensor([[11., 12.],\n",
       "        [23., 12.]])"
      ]
     },
     "execution_count": 23,
     "metadata": {},
     "output_type": "execute_result"
    }
   ],
   "source": [
    "torch.gather(torch.Tensor([[11, 12], [23, 24]]), 1, torch.LongTensor([[0, 0], [1, 0]]))\n",
    "\n",
    "torch.gather(torch.Tensor([[11, 12], [23, 24]]), 0, torch.LongTensor([[0, 0], [1, 0]]))"
   ]
  },
  {
   "cell_type": "code",
   "execution_count": 30,
   "metadata": {},
   "outputs": [
    {
     "name": "stdout",
     "output_type": "stream",
     "text": [
      "tensor([[-1.0023,  0.5919, -2.0934,  0.3629,  0.3835],\n",
      "        [-0.0042,  0.3154,  1.4830, -0.7498,  1.4165],\n",
      "        [ 2.4319, -1.3930, -0.4172,  1.4977, -1.7295],\n",
      "        [-1.6046, -0.7813, -0.0916, -0.9106,  1.5497]])\n"
     ]
    },
    {
     "data": {
      "text/plain": [
       "tensor([[-1.0023, -0.0042,  2.4319, -1.6046],\n",
       "        [ 0.5919,  0.3154, -1.3930, -0.7813],\n",
       "        [-2.0934,  1.4830, -0.4172, -0.0916],\n",
       "        [ 0.3629, -0.7498,  1.4977, -0.9106],\n",
       "        [ 0.3835,  1.4165, -1.7295,  1.5497]])"
      ]
     },
     "execution_count": 30,
     "metadata": {},
     "output_type": "execute_result"
    }
   ],
   "source": [
    "# torch.nonzero(torch.tensor([10, 00, 23, 0, 0.0]))\n",
    "\n",
    "\n",
    "print(x)\n",
    "x.t()"
   ]
  }
 ],
 "metadata": {
  "kernelspec": {
   "display_name": "pytorchrecipes",
   "language": "python",
   "name": "python3"
  },
  "language_info": {
   "codemirror_mode": {
    "name": "ipython",
    "version": 3
   },
   "file_extension": ".py",
   "mimetype": "text/x-python",
   "name": "python",
   "nbconvert_exporter": "python",
   "pygments_lexer": "ipython3",
   "version": "3.10.14"
  }
 },
 "nbformat": 4,
 "nbformat_minor": 2
}
